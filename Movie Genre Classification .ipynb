{
 "cells": [
  {
   "cell_type": "markdown",
   "id": "afcb5a1e",
   "metadata": {},
   "source": [
    "**Importing Important Libarary**"
   ]
  },
  {
   "cell_type": "code",
   "execution_count": 2,
   "id": "284f0f63",
   "metadata": {},
   "outputs": [],
   "source": [
    "import numpy as np\n",
    "import pandas as pd\n",
    "from tqdm.notebook import tqdm"
   ]
  },
  {
   "cell_type": "markdown",
   "id": "1176aab8",
   "metadata": {},
   "source": [
    "**WORKING WITH TRAINED DATA**"
   ]
  },
  {
   "cell_type": "code",
   "execution_count": 3,
   "id": "a195438e",
   "metadata": {
    "scrolled": false
   },
   "outputs": [
    {
     "data": {
      "application/vnd.jupyter.widget-view+json": {
       "model_id": "30e23347eaae4c5a81f94295ab9cffcd",
       "version_major": 2,
       "version_minor": 0
      },
      "text/plain": [
       "loading traing data:   0%|          | 0/50 [00:00<?, ?it/s]"
      ]
     },
     "metadata": {},
     "output_type": "display_data"
    }
   ],
   "source": [
    "# loading the training data set from \"train_data.txt\"\n",
    "try:\n",
    "    with tqdm(total = 50 , desc = \"loading traing data\")as pbar:\n",
    "        train_data =  pd.read_csv(\"train_data.txt\",sep= ':::',header = None , names = [\"serial number \",\"Title\",\"Genre\",\"Description\"],engine = 'python')\n",
    "        pbar.update(50)\n",
    "except:\n",
    "    print(\"error in loading traing data\")\n",
    "    raise\n",
    "    \n",
    "    "
   ]
  },
  {
   "cell_type": "code",
   "execution_count": 4,
   "id": "744dec80",
   "metadata": {},
   "outputs": [
    {
     "data": {
      "text/html": [
       "<div>\n",
       "<style scoped>\n",
       "    .dataframe tbody tr th:only-of-type {\n",
       "        vertical-align: middle;\n",
       "    }\n",
       "\n",
       "    .dataframe tbody tr th {\n",
       "        vertical-align: top;\n",
       "    }\n",
       "\n",
       "    .dataframe thead th {\n",
       "        text-align: right;\n",
       "    }\n",
       "</style>\n",
       "<table border=\"1\" class=\"dataframe\">\n",
       "  <thead>\n",
       "    <tr style=\"text-align: right;\">\n",
       "      <th></th>\n",
       "      <th>serial number</th>\n",
       "      <th>Title</th>\n",
       "      <th>Genre</th>\n",
       "      <th>Description</th>\n",
       "    </tr>\n",
       "  </thead>\n",
       "  <tbody>\n",
       "    <tr>\n",
       "      <th>0</th>\n",
       "      <td>1</td>\n",
       "      <td>Oscar et la dame rose (2009)</td>\n",
       "      <td>drama</td>\n",
       "      <td>Listening in to a conversation between his do...</td>\n",
       "    </tr>\n",
       "    <tr>\n",
       "      <th>1</th>\n",
       "      <td>2</td>\n",
       "      <td>Cupid (1997)</td>\n",
       "      <td>thriller</td>\n",
       "      <td>A brother and sister with a past incestuous r...</td>\n",
       "    </tr>\n",
       "    <tr>\n",
       "      <th>2</th>\n",
       "      <td>3</td>\n",
       "      <td>Young, Wild and Wonderful (1980)</td>\n",
       "      <td>adult</td>\n",
       "      <td>As the bus empties the students for their fie...</td>\n",
       "    </tr>\n",
       "    <tr>\n",
       "      <th>3</th>\n",
       "      <td>4</td>\n",
       "      <td>The Secret Sin (1915)</td>\n",
       "      <td>drama</td>\n",
       "      <td>To help their unemployed father make ends mee...</td>\n",
       "    </tr>\n",
       "    <tr>\n",
       "      <th>4</th>\n",
       "      <td>5</td>\n",
       "      <td>The Unrecovered (2007)</td>\n",
       "      <td>drama</td>\n",
       "      <td>The film's title refers not only to the un-re...</td>\n",
       "    </tr>\n",
       "    <tr>\n",
       "      <th>...</th>\n",
       "      <td>...</td>\n",
       "      <td>...</td>\n",
       "      <td>...</td>\n",
       "      <td>...</td>\n",
       "    </tr>\n",
       "    <tr>\n",
       "      <th>54195</th>\n",
       "      <td>54196</td>\n",
       "      <td>Segregating the Greatest Generation (2006)</td>\n",
       "      <td>documentary</td>\n",
       "      <td>In this \"concept\" essay documentary, 16 parti...</td>\n",
       "    </tr>\n",
       "    <tr>\n",
       "      <th>54196</th>\n",
       "      <td>54197</td>\n",
       "      <td>Vulture Canyon (????)</td>\n",
       "      <td>drama</td>\n",
       "      <td>Vulture Canyon is the only juvenile girls pri...</td>\n",
       "    </tr>\n",
       "    <tr>\n",
       "      <th>54197</th>\n",
       "      <td>54198</td>\n",
       "      <td>The Burglar (2016)</td>\n",
       "      <td>drama</td>\n",
       "      <td>Alex, a young woman aged 18, lives with her m...</td>\n",
       "    </tr>\n",
       "    <tr>\n",
       "      <th>54198</th>\n",
       "      <td>54199</td>\n",
       "      <td>Dervis i smrt (1974)</td>\n",
       "      <td>drama</td>\n",
       "      <td>Ahmet Nurudin is a dervish and head of the Is...</td>\n",
       "    </tr>\n",
       "    <tr>\n",
       "      <th>54199</th>\n",
       "      <td>54200</td>\n",
       "      <td>\"Just Not Cool Enough\" (2014)</td>\n",
       "      <td>comedy</td>\n",
       "      <td>Follow the life of Stephen, a young man just ...</td>\n",
       "    </tr>\n",
       "  </tbody>\n",
       "</table>\n",
       "<p>54200 rows × 4 columns</p>\n",
       "</div>"
      ],
      "text/plain": [
       "       serial number                                          Title  \\\n",
       "0                   1                 Oscar et la dame rose (2009)    \n",
       "1                   2                                 Cupid (1997)    \n",
       "2                   3             Young, Wild and Wonderful (1980)    \n",
       "3                   4                        The Secret Sin (1915)    \n",
       "4                   5                       The Unrecovered (2007)    \n",
       "...               ...                                           ...   \n",
       "54195           54196   Segregating the Greatest Generation (2006)    \n",
       "54196           54197                        Vulture Canyon (????)    \n",
       "54197           54198                           The Burglar (2016)    \n",
       "54198           54199                         Dervis i smrt (1974)    \n",
       "54199           54200                \"Just Not Cool Enough\" (2014)    \n",
       "\n",
       "               Genre                                        Description  \n",
       "0             drama    Listening in to a conversation between his do...  \n",
       "1          thriller    A brother and sister with a past incestuous r...  \n",
       "2             adult    As the bus empties the students for their fie...  \n",
       "3             drama    To help their unemployed father make ends mee...  \n",
       "4             drama    The film's title refers not only to the un-re...  \n",
       "...              ...                                                ...  \n",
       "54195   documentary    In this \"concept\" essay documentary, 16 parti...  \n",
       "54196         drama    Vulture Canyon is the only juvenile girls pri...  \n",
       "54197         drama    Alex, a young woman aged 18, lives with her m...  \n",
       "54198         drama    Ahmet Nurudin is a dervish and head of the Is...  \n",
       "54199        comedy    Follow the life of Stephen, a young man just ...  \n",
       "\n",
       "[54200 rows x 4 columns]"
      ]
     },
     "execution_count": 4,
     "metadata": {},
     "output_type": "execute_result"
    }
   ],
   "source": [
    "# some data of the training set\n",
    "train_data"
   ]
  },
  {
   "cell_type": "markdown",
   "id": "d6e68f09",
   "metadata": {},
   "source": [
    "**List of Genre in Data**"
   ]
  },
  {
   "cell_type": "code",
   "execution_count": 5,
   "id": "829feefb",
   "metadata": {},
   "outputs": [],
   "source": [
    "Genre_list = [' drama ', ' thriller ', ' adult ', ' documentary ', ' comedy ',' crime ', ' reality-tv ', ' horror ', ' sport ', ' animation ',' action ', ' fantasy ', ' short ', ' sci-fi ', ' music ',' adventure ', ' talk-show ', ' western ', ' family ', ' mystery ',' history ', ' news ', ' biography ', ' romance ', ' game-show ',' musical ', ' war ']\n",
    "\n",
    "# unkown - Genre meaning \"the gnere that model can't predict\" \n",
    "fallback_genre = \"unknown\""
   ]
  },
  {
   "cell_type": "markdown",
   "id": "15024de3",
   "metadata": {},
   "source": [
    "**Importing MultiLabelBinarizer  and TfidfVectorizer**"
   ]
  },
  {
   "cell_type": "code",
   "execution_count": 6,
   "id": "0916b605",
   "metadata": {},
   "outputs": [
    {
     "data": {
      "text/plain": [
       "array([[0, 0, 0, ..., 0, 0, 0],\n",
       "       [0, 0, 0, ..., 1, 0, 0],\n",
       "       [0, 1, 0, ..., 0, 0, 0],\n",
       "       ...,\n",
       "       [0, 0, 0, ..., 0, 0, 0],\n",
       "       [0, 0, 0, ..., 0, 0, 0],\n",
       "       [0, 0, 0, ..., 0, 0, 0]])"
      ]
     },
     "execution_count": 6,
     "metadata": {},
     "output_type": "execute_result"
    }
   ],
   "source": [
    "from sklearn.preprocessing import MultiLabelBinarizer\n",
    "x_train = train_data[\"Description\"].astype(str).apply(lambda doc:doc.lower())\n",
    "label = [genre.split(', ') for genre in train_data[\"Genre\"]]\n",
    "mlb = MultiLabelBinarizer()\n",
    "y_train = mlb.fit_transform(label)\n",
    "y_train"
   ]
  },
  {
   "cell_type": "code",
   "execution_count": 7,
   "id": "5e74946d",
   "metadata": {},
   "outputs": [
    {
     "data": {
      "application/vnd.jupyter.widget-view+json": {
       "model_id": "53b54e6a2082429c9ed5b7616d8c0cd1",
       "version_major": 2,
       "version_minor": 0
      },
      "text/plain": [
       "vectorizing traing data:   0%|          | 0/50 [00:00<?, ?it/s]"
      ]
     },
     "metadata": {},
     "output_type": "display_data"
    }
   ],
   "source": [
    "from sklearn.feature_extraction.text import TfidfVectorizer\n",
    "vectorizer = TfidfVectorizer(max_features = 5000)\n",
    "with tqdm(total = 50 ,desc = \"vectorizing traing data\") as pbar:\n",
    "    x_train_vector = vectorizer.fit_transform(x_train)\n",
    "    pbar.update(50)\n"
   ]
  },
  {
   "cell_type": "markdown",
   "id": "216cb6fb",
   "metadata": {},
   "source": [
    "**Importing Logistic Regression and MultiOutputClassifier**"
   ]
  },
  {
   "cell_type": "code",
   "execution_count": 28,
   "id": "7fad43d0",
   "metadata": {},
   "outputs": [
    {
     "data": {
      "application/vnd.jupyter.widget-view+json": {
       "model_id": "f86823c9d6e2493c9401b3ed0aa166a6",
       "version_major": 2,
       "version_minor": 0
      },
      "text/plain": [
       "Training the Model:   0%|          | 0/50 [00:00<?, ?it/s]"
      ]
     },
     "metadata": {},
     "output_type": "display_data"
    }
   ],
   "source": [
    "from sklearn.linear_model import LogisticRegression\n",
    "from sklearn.multioutput import MultiOutputClassifier\n",
    "with tqdm(total = 50 ,desc = \"Training the Model\")as pbar:\n",
    "    LR = LogisticRegression(max_iter=1000, class_weight='balanced')\n",
    "    MOC = MultiOutputClassifier(LR)\n",
    "    MOC.fit(x_train_vector,y_train)\n",
    "    pbar.update(50)\n",
    "    "
   ]
  },
  {
   "cell_type": "markdown",
   "id": "3d7981c0",
   "metadata": {},
   "source": [
    "**WORKING WITH TEST DATA**"
   ]
  },
  {
   "cell_type": "code",
   "execution_count": 29,
   "id": "68691e5d",
   "metadata": {},
   "outputs": [
    {
     "data": {
      "application/vnd.jupyter.widget-view+json": {
       "model_id": "c9211a38ed374de6a0b7b2a873aa1a2f",
       "version_major": 2,
       "version_minor": 0
      },
      "text/plain": [
       "loading Test data:   0%|          | 0/50 [00:00<?, ?it/s]"
      ]
     },
     "metadata": {},
     "output_type": "display_data"
    }
   ],
   "source": [
    "# LOADING THE TEST DATA\n",
    "try:\n",
    "    with tqdm(total = 50 , desc = \"loading Test data\")as pbar:\n",
    "        test_data =  pd.read_csv(\"test_data.txt\",sep= ':::',header = None , names = [\"serial number \",\"Title\",\"Description\"],engine='python')\n",
    "        pbar.update(50)\n",
    "except:\n",
    "    print(\"error in loading test data\")\n",
    "    raise\n",
    "    "
   ]
  },
  {
   "cell_type": "code",
   "execution_count": 12,
   "id": "0f0c85ff",
   "metadata": {
    "scrolled": false
   },
   "outputs": [
    {
     "data": {
      "text/html": [
       "<div>\n",
       "<style scoped>\n",
       "    .dataframe tbody tr th:only-of-type {\n",
       "        vertical-align: middle;\n",
       "    }\n",
       "\n",
       "    .dataframe tbody tr th {\n",
       "        vertical-align: top;\n",
       "    }\n",
       "\n",
       "    .dataframe thead th {\n",
       "        text-align: right;\n",
       "    }\n",
       "</style>\n",
       "<table border=\"1\" class=\"dataframe\">\n",
       "  <thead>\n",
       "    <tr style=\"text-align: right;\">\n",
       "      <th></th>\n",
       "      <th>serial number</th>\n",
       "      <th>Title</th>\n",
       "      <th>Description</th>\n",
       "    </tr>\n",
       "  </thead>\n",
       "  <tbody>\n",
       "    <tr>\n",
       "      <th>0</th>\n",
       "      <td>1</td>\n",
       "      <td>Edgar's Lunch (1998)</td>\n",
       "      <td>L.R. Brane loves his life - his car, his apar...</td>\n",
       "    </tr>\n",
       "    <tr>\n",
       "      <th>1</th>\n",
       "      <td>2</td>\n",
       "      <td>La guerra de papá (1977)</td>\n",
       "      <td>Spain, March 1964: Quico is a very naughty ch...</td>\n",
       "    </tr>\n",
       "    <tr>\n",
       "      <th>2</th>\n",
       "      <td>3</td>\n",
       "      <td>Off the Beaten Track (2010)</td>\n",
       "      <td>One year in the life of Albin and his family ...</td>\n",
       "    </tr>\n",
       "    <tr>\n",
       "      <th>3</th>\n",
       "      <td>4</td>\n",
       "      <td>Meu Amigo Hindu (2015)</td>\n",
       "      <td>His father has died, he hasn't spoken with hi...</td>\n",
       "    </tr>\n",
       "    <tr>\n",
       "      <th>4</th>\n",
       "      <td>5</td>\n",
       "      <td>Er nu zhai (1955)</td>\n",
       "      <td>Before he was known internationally as a mart...</td>\n",
       "    </tr>\n",
       "    <tr>\n",
       "      <th>...</th>\n",
       "      <td>...</td>\n",
       "      <td>...</td>\n",
       "      <td>...</td>\n",
       "    </tr>\n",
       "    <tr>\n",
       "      <th>54195</th>\n",
       "      <td>54196</td>\n",
       "      <td>\"Tales of Light &amp; Dark\" (2013)</td>\n",
       "      <td>Covering multiple genres, Tales of Light &amp; Da...</td>\n",
       "    </tr>\n",
       "    <tr>\n",
       "      <th>54196</th>\n",
       "      <td>54197</td>\n",
       "      <td>Der letzte Mohikaner (1965)</td>\n",
       "      <td>As Alice and Cora Munro attempt to find their...</td>\n",
       "    </tr>\n",
       "    <tr>\n",
       "      <th>54197</th>\n",
       "      <td>54198</td>\n",
       "      <td>Oliver Twink (2007)</td>\n",
       "      <td>A movie 169 years in the making. Oliver Twist...</td>\n",
       "    </tr>\n",
       "    <tr>\n",
       "      <th>54198</th>\n",
       "      <td>54199</td>\n",
       "      <td>Slipstream (1973)</td>\n",
       "      <td>Popular, but mysterious rock D.J Mike Mallard...</td>\n",
       "    </tr>\n",
       "    <tr>\n",
       "      <th>54199</th>\n",
       "      <td>54200</td>\n",
       "      <td>Curitiba Zero Grau (2010)</td>\n",
       "      <td>Curitiba is a city in movement, with rhythms ...</td>\n",
       "    </tr>\n",
       "  </tbody>\n",
       "</table>\n",
       "<p>54200 rows × 3 columns</p>\n",
       "</div>"
      ],
      "text/plain": [
       "       serial number                              Title  \\\n",
       "0                   1             Edgar's Lunch (1998)    \n",
       "1                   2         La guerra de papá (1977)    \n",
       "2                   3      Off the Beaten Track (2010)    \n",
       "3                   4           Meu Amigo Hindu (2015)    \n",
       "4                   5                Er nu zhai (1955)    \n",
       "...               ...                               ...   \n",
       "54195           54196   \"Tales of Light & Dark\" (2013)    \n",
       "54196           54197      Der letzte Mohikaner (1965)    \n",
       "54197           54198              Oliver Twink (2007)    \n",
       "54198           54199                Slipstream (1973)    \n",
       "54199           54200        Curitiba Zero Grau (2010)    \n",
       "\n",
       "                                             Description  \n",
       "0       L.R. Brane loves his life - his car, his apar...  \n",
       "1       Spain, March 1964: Quico is a very naughty ch...  \n",
       "2       One year in the life of Albin and his family ...  \n",
       "3       His father has died, he hasn't spoken with hi...  \n",
       "4       Before he was known internationally as a mart...  \n",
       "...                                                  ...  \n",
       "54195   Covering multiple genres, Tales of Light & Da...  \n",
       "54196   As Alice and Cora Munro attempt to find their...  \n",
       "54197   A movie 169 years in the making. Oliver Twist...  \n",
       "54198   Popular, but mysterious rock D.J Mike Mallard...  \n",
       "54199   Curitiba is a city in movement, with rhythms ...  \n",
       "\n",
       "[54200 rows x 3 columns]"
      ]
     },
     "execution_count": 12,
     "metadata": {},
     "output_type": "execute_result"
    }
   ],
   "source": [
    "test_data"
   ]
  },
  {
   "cell_type": "code",
   "execution_count": 13,
   "id": "4bcc1037",
   "metadata": {},
   "outputs": [],
   "source": [
    "# Data Preprocessing for Test Data\n",
    "x_test = train_data[\"Description\"].astype(str).apply(lambda doc:doc.lower())"
   ]
  },
  {
   "cell_type": "code",
   "execution_count": 14,
   "id": "84cbcd11",
   "metadata": {},
   "outputs": [
    {
     "data": {
      "application/vnd.jupyter.widget-view+json": {
       "model_id": "ab8fe2631ffe4870b84dc5fa9daa44ea",
       "version_major": 2,
       "version_minor": 0
      },
      "text/plain": [
       "vectorizing test data:   0%|          | 0/50 [00:00<?, ?it/s]"
      ]
     },
     "metadata": {},
     "output_type": "display_data"
    }
   ],
   "source": [
    "# Transform the Test Data using Progress Bar\n",
    "with tqdm(total = 50 ,desc = \"vectorizing test data\") as pbar:\n",
    "    x_test_vector = vectorizer.transform(x_test)\n",
    "    pbar.update(50)"
   ]
  },
  {
   "cell_type": "markdown",
   "id": "ac69b841",
   "metadata": {},
   "source": [
    "**Predicting Genre on Test Data**"
   ]
  },
  {
   "cell_type": "code",
   "execution_count": 15,
   "id": "49b5e7b2",
   "metadata": {},
   "outputs": [
    {
     "data": {
      "application/vnd.jupyter.widget-view+json": {
       "model_id": "7c61b5c9d85543299e1f85f2139e46cd",
       "version_major": 2,
       "version_minor": 0
      },
      "text/plain": [
       "predicting the Test Data:   0%|          | 0/50 [00:00<?, ?it/s]"
      ]
     },
     "metadata": {},
     "output_type": "display_data"
    }
   ],
   "source": [
    "with tqdm(total = 50 ,desc = \"predicting the Test Data\")as pbar:\n",
    "    y_predict = MOC.predict(x_test_vector)\n",
    "    pbar.update(50)\n",
    "    "
   ]
  },
  {
   "cell_type": "code",
   "execution_count": 16,
   "id": "2bdcce47",
   "metadata": {},
   "outputs": [
    {
     "data": {
      "text/html": [
       "<div>\n",
       "<style scoped>\n",
       "    .dataframe tbody tr th:only-of-type {\n",
       "        vertical-align: middle;\n",
       "    }\n",
       "\n",
       "    .dataframe tbody tr th {\n",
       "        vertical-align: top;\n",
       "    }\n",
       "\n",
       "    .dataframe thead th {\n",
       "        text-align: right;\n",
       "    }\n",
       "</style>\n",
       "<table border=\"1\" class=\"dataframe\">\n",
       "  <thead>\n",
       "    <tr style=\"text-align: right;\">\n",
       "      <th></th>\n",
       "      <th>Title</th>\n",
       "      <th>Predicted Genre</th>\n",
       "    </tr>\n",
       "  </thead>\n",
       "  <tbody>\n",
       "    <tr>\n",
       "      <th>0</th>\n",
       "      <td>Edgar's Lunch (1998)</td>\n",
       "      <td>( comedy ,  drama )</td>\n",
       "    </tr>\n",
       "    <tr>\n",
       "      <th>1</th>\n",
       "      <td>La guerra de papá (1977)</td>\n",
       "      <td>( horror ,  thriller )</td>\n",
       "    </tr>\n",
       "    <tr>\n",
       "      <th>2</th>\n",
       "      <td>Off the Beaten Track (2010)</td>\n",
       "      <td>( adult ,)</td>\n",
       "    </tr>\n",
       "    <tr>\n",
       "      <th>3</th>\n",
       "      <td>Meu Amigo Hindu (2015)</td>\n",
       "      <td>( drama ,  thriller )</td>\n",
       "    </tr>\n",
       "    <tr>\n",
       "      <th>4</th>\n",
       "      <td>Er nu zhai (1955)</td>\n",
       "      <td>( documentary ,  short )</td>\n",
       "    </tr>\n",
       "    <tr>\n",
       "      <th>...</th>\n",
       "      <td>...</td>\n",
       "      <td>...</td>\n",
       "    </tr>\n",
       "    <tr>\n",
       "      <th>54195</th>\n",
       "      <td>\"Tales of Light &amp; Dark\" (2013)</td>\n",
       "      <td>( documentary ,  war )</td>\n",
       "    </tr>\n",
       "    <tr>\n",
       "      <th>54196</th>\n",
       "      <td>Der letzte Mohikaner (1965)</td>\n",
       "      <td>( drama ,)</td>\n",
       "    </tr>\n",
       "    <tr>\n",
       "      <th>54197</th>\n",
       "      <td>Oliver Twink (2007)</td>\n",
       "      <td>( drama ,)</td>\n",
       "    </tr>\n",
       "    <tr>\n",
       "      <th>54198</th>\n",
       "      <td>Slipstream (1973)</td>\n",
       "      <td>( drama ,  history )</td>\n",
       "    </tr>\n",
       "    <tr>\n",
       "      <th>54199</th>\n",
       "      <td>Curitiba Zero Grau (2010)</td>\n",
       "      <td>( comedy ,)</td>\n",
       "    </tr>\n",
       "  </tbody>\n",
       "</table>\n",
       "<p>54200 rows × 2 columns</p>\n",
       "</div>"
      ],
      "text/plain": [
       "                                  Title           Predicted Genre\n",
       "0                 Edgar's Lunch (1998)        ( comedy ,  drama )\n",
       "1             La guerra de papá (1977)     ( horror ,  thriller )\n",
       "2          Off the Beaten Track (2010)                 ( adult ,)\n",
       "3               Meu Amigo Hindu (2015)      ( drama ,  thriller )\n",
       "4                    Er nu zhai (1955)   ( documentary ,  short )\n",
       "...                                 ...                       ...\n",
       "54195   \"Tales of Light & Dark\" (2013)     ( documentary ,  war )\n",
       "54196      Der letzte Mohikaner (1965)                 ( drama ,)\n",
       "54197              Oliver Twink (2007)                 ( drama ,)\n",
       "54198                Slipstream (1973)       ( drama ,  history )\n",
       "54199        Curitiba Zero Grau (2010)                ( comedy ,)\n",
       "\n",
       "[54200 rows x 2 columns]"
      ]
     },
     "execution_count": 16,
     "metadata": {},
     "output_type": "execute_result"
    }
   ],
   "source": [
    "# Create the Data Frame for test data with movies name and predicted genre\n",
    "test_movie_name = test_data[\"Title\"]\n",
    "predicted_genre = mlb.inverse_transform(y_predict)\n",
    "test_result = pd.DataFrame({\"Title\":test_movie_name,\"Predicted Genre\":predicted_genre})\n",
    "test_result\n"
   ]
  },
  {
   "cell_type": "code",
   "execution_count": 17,
   "id": "c5e0d823",
   "metadata": {},
   "outputs": [
    {
     "data": {
      "text/html": [
       "<div>\n",
       "<style scoped>\n",
       "    .dataframe tbody tr th:only-of-type {\n",
       "        vertical-align: middle;\n",
       "    }\n",
       "\n",
       "    .dataframe tbody tr th {\n",
       "        vertical-align: top;\n",
       "    }\n",
       "\n",
       "    .dataframe thead th {\n",
       "        text-align: right;\n",
       "    }\n",
       "</style>\n",
       "<table border=\"1\" class=\"dataframe\">\n",
       "  <thead>\n",
       "    <tr style=\"text-align: right;\">\n",
       "      <th></th>\n",
       "      <th>Title</th>\n",
       "      <th>Predicted Genre</th>\n",
       "    </tr>\n",
       "  </thead>\n",
       "  <tbody>\n",
       "    <tr>\n",
       "      <th>0</th>\n",
       "      <td>Edgar's Lunch (1998)</td>\n",
       "      <td>( comedy ,  drama )</td>\n",
       "    </tr>\n",
       "    <tr>\n",
       "      <th>1</th>\n",
       "      <td>La guerra de papá (1977)</td>\n",
       "      <td>( horror ,  thriller )</td>\n",
       "    </tr>\n",
       "    <tr>\n",
       "      <th>2</th>\n",
       "      <td>Off the Beaten Track (2010)</td>\n",
       "      <td>( adult ,)</td>\n",
       "    </tr>\n",
       "    <tr>\n",
       "      <th>3</th>\n",
       "      <td>Meu Amigo Hindu (2015)</td>\n",
       "      <td>( drama ,  thriller )</td>\n",
       "    </tr>\n",
       "    <tr>\n",
       "      <th>4</th>\n",
       "      <td>Er nu zhai (1955)</td>\n",
       "      <td>( documentary ,  short )</td>\n",
       "    </tr>\n",
       "    <tr>\n",
       "      <th>...</th>\n",
       "      <td>...</td>\n",
       "      <td>...</td>\n",
       "    </tr>\n",
       "    <tr>\n",
       "      <th>54195</th>\n",
       "      <td>\"Tales of Light &amp; Dark\" (2013)</td>\n",
       "      <td>( documentary ,  war )</td>\n",
       "    </tr>\n",
       "    <tr>\n",
       "      <th>54196</th>\n",
       "      <td>Der letzte Mohikaner (1965)</td>\n",
       "      <td>( drama ,)</td>\n",
       "    </tr>\n",
       "    <tr>\n",
       "      <th>54197</th>\n",
       "      <td>Oliver Twink (2007)</td>\n",
       "      <td>( drama ,)</td>\n",
       "    </tr>\n",
       "    <tr>\n",
       "      <th>54198</th>\n",
       "      <td>Slipstream (1973)</td>\n",
       "      <td>( drama ,  history )</td>\n",
       "    </tr>\n",
       "    <tr>\n",
       "      <th>54199</th>\n",
       "      <td>Curitiba Zero Grau (2010)</td>\n",
       "      <td>( comedy ,)</td>\n",
       "    </tr>\n",
       "  </tbody>\n",
       "</table>\n",
       "<p>54200 rows × 2 columns</p>\n",
       "</div>"
      ],
      "text/plain": [
       "                                  Title           Predicted Genre\n",
       "0                 Edgar's Lunch (1998)        ( comedy ,  drama )\n",
       "1             La guerra de papá (1977)     ( horror ,  thriller )\n",
       "2          Off the Beaten Track (2010)                 ( adult ,)\n",
       "3               Meu Amigo Hindu (2015)      ( drama ,  thriller )\n",
       "4                    Er nu zhai (1955)   ( documentary ,  short )\n",
       "...                                 ...                       ...\n",
       "54195   \"Tales of Light & Dark\" (2013)     ( documentary ,  war )\n",
       "54196      Der letzte Mohikaner (1965)                 ( drama ,)\n",
       "54197              Oliver Twink (2007)                 ( drama ,)\n",
       "54198                Slipstream (1973)       ( drama ,  history )\n",
       "54199        Curitiba Zero Grau (2010)                ( comedy ,)\n",
       "\n",
       "[54200 rows x 2 columns]"
      ]
     },
     "execution_count": 17,
     "metadata": {},
     "output_type": "execute_result"
    }
   ],
   "source": [
    "# Replacing unpredicted genre with fallback genre\n",
    "test_result[\"Predicted Genre\"] = test_result[\"Predicted Genre\"].apply(lambda Genre : [fallback_genre] if len(Genre) == 0 else Genre)\n",
    "test_result"
   ]
  },
  {
   "cell_type": "markdown",
   "id": "455855e8",
   "metadata": {},
   "source": [
    "**Giving output in Txt Format**"
   ]
  },
  {
   "cell_type": "code",
   "execution_count": 18,
   "id": "7fde6bb2",
   "metadata": {},
   "outputs": [],
   "source": [
    "# giving output in txt format:\n",
    "with open(\"model_evaluation.txt\",\"w\",encoding = \"utf-8\")as output_file:\n",
    "    for _, row in test_result.iterrows():\n",
    "        TITLE = row[\"Title\"]\n",
    "        GENRE = ', '.join(row[\"Predicted Genre\"])\n",
    "        output_file.write(f\"{TITLE}:::{GENRE}\\n\")\n"
   ]
  },
  {
   "cell_type": "code",
   "execution_count": 19,
   "id": "599aed3d",
   "metadata": {},
   "outputs": [
    {
     "data": {
      "text/plain": [
       "array([[0, 0, 0, ..., 0, 0, 0],\n",
       "       [0, 0, 0, ..., 1, 0, 0],\n",
       "       [0, 1, 0, ..., 0, 0, 0],\n",
       "       ...,\n",
       "       [0, 0, 0, ..., 0, 0, 0],\n",
       "       [0, 0, 0, ..., 0, 0, 0],\n",
       "       [0, 0, 0, ..., 0, 0, 0]])"
      ]
     },
     "execution_count": 19,
     "metadata": {},
     "output_type": "execute_result"
    }
   ],
   "source": [
    "y_train_pred = MOC.predict(x_train_vector)\n",
    "y_train_pred"
   ]
  },
  {
   "cell_type": "code",
   "execution_count": null,
   "id": "1db868fe",
   "metadata": {},
   "outputs": [],
   "source": [
    "from sklearn.metrics import accuracy_score,precision_score,recall_score,f1_score,confusion_matrix\n",
    "accuracy = accuracy_score(y_train,y_train_pred)\n",
    "precision = precision_score(y_train,y_train_pred,average =\"micro\")\n",
    "f1_score = f1_score(y_train,y_train_pred,average = \"micro\")\n",
    "recall_score =  recall_score(y_train,y_train_pred ,average = \"micro\")\n",
    "print(f\"Your model accuracy is {accuracy*100:.2f}%\\nYour model precision score is {precision}\\nYour model f1_score is {f1_score}\\nYour model recall score is {recall_score}\")"
   ]
  },
  {
   "cell_type": "code",
   "execution_count": 21,
   "id": "75f7cfbb",
   "metadata": {},
   "outputs": [
    {
     "data": {
      "text/html": [
       "<div>\n",
       "<style scoped>\n",
       "    .dataframe tbody tr th:only-of-type {\n",
       "        vertical-align: middle;\n",
       "    }\n",
       "\n",
       "    .dataframe tbody tr th {\n",
       "        vertical-align: top;\n",
       "    }\n",
       "\n",
       "    .dataframe thead th {\n",
       "        text-align: right;\n",
       "    }\n",
       "</style>\n",
       "<table border=\"1\" class=\"dataframe\">\n",
       "  <thead>\n",
       "    <tr style=\"text-align: right;\">\n",
       "      <th></th>\n",
       "      <th>Title</th>\n",
       "      <th>Genre</th>\n",
       "    </tr>\n",
       "  </thead>\n",
       "  <tbody>\n",
       "    <tr>\n",
       "      <th>0</th>\n",
       "      <td>Edgar's Lunch (1998)</td>\n",
       "      <td>comedy ,  drama</td>\n",
       "    </tr>\n",
       "    <tr>\n",
       "      <th>1</th>\n",
       "      <td>La guerra de papá (1977)</td>\n",
       "      <td>horror ,  thriller</td>\n",
       "    </tr>\n",
       "    <tr>\n",
       "      <th>2</th>\n",
       "      <td>Off the Beaten Track (2010)</td>\n",
       "      <td>adult</td>\n",
       "    </tr>\n",
       "    <tr>\n",
       "      <th>3</th>\n",
       "      <td>Meu Amigo Hindu (2015)</td>\n",
       "      <td>drama ,  thriller</td>\n",
       "    </tr>\n",
       "    <tr>\n",
       "      <th>4</th>\n",
       "      <td>Er nu zhai (1955)</td>\n",
       "      <td>documentary ,  short</td>\n",
       "    </tr>\n",
       "    <tr>\n",
       "      <th>...</th>\n",
       "      <td>...</td>\n",
       "      <td>...</td>\n",
       "    </tr>\n",
       "    <tr>\n",
       "      <th>54195</th>\n",
       "      <td>\"Tales of Light &amp; Dark\" (2013)</td>\n",
       "      <td>documentary ,  war</td>\n",
       "    </tr>\n",
       "    <tr>\n",
       "      <th>54196</th>\n",
       "      <td>Der letzte Mohikaner (1965)</td>\n",
       "      <td>drama</td>\n",
       "    </tr>\n",
       "    <tr>\n",
       "      <th>54197</th>\n",
       "      <td>Oliver Twink (2007)</td>\n",
       "      <td>drama</td>\n",
       "    </tr>\n",
       "    <tr>\n",
       "      <th>54198</th>\n",
       "      <td>Slipstream (1973)</td>\n",
       "      <td>drama ,  history</td>\n",
       "    </tr>\n",
       "    <tr>\n",
       "      <th>54199</th>\n",
       "      <td>Curitiba Zero Grau (2010)</td>\n",
       "      <td>comedy</td>\n",
       "    </tr>\n",
       "  </tbody>\n",
       "</table>\n",
       "<p>54200 rows × 2 columns</p>\n",
       "</div>"
      ],
      "text/plain": [
       "                                 Title                  Genre\n",
       "0                Edgar's Lunch (1998)         comedy ,  drama\n",
       "1            La guerra de papá (1977)      horror ,  thriller\n",
       "2         Off the Beaten Track (2010)                   adult\n",
       "3              Meu Amigo Hindu (2015)       drama ,  thriller\n",
       "4                   Er nu zhai (1955)    documentary ,  short\n",
       "...                                ...                    ...\n",
       "54195  \"Tales of Light & Dark\" (2013)      documentary ,  war\n",
       "54196     Der letzte Mohikaner (1965)                   drama\n",
       "54197             Oliver Twink (2007)                   drama\n",
       "54198               Slipstream (1973)        drama ,  history\n",
       "54199       Curitiba Zero Grau (2010)                  comedy\n",
       "\n",
       "[54200 rows x 2 columns]"
      ]
     },
     "execution_count": 21,
     "metadata": {},
     "output_type": "execute_result"
    }
   ],
   "source": [
    "output = pd.read_csv(\"model_evaluation.txt\",sep= ':::',header = None , names = [\"Title\",\"Genre\"],engine = 'python')\n",
    "output"
   ]
  }
 ],
 "metadata": {
  "kernelspec": {
   "display_name": "Python 3 (ipykernel)",
   "language": "python",
   "name": "python3"
  },
  "language_info": {
   "codemirror_mode": {
    "name": "ipython",
    "version": 3
   },
   "file_extension": ".py",
   "mimetype": "text/x-python",
   "name": "python",
   "nbconvert_exporter": "python",
   "pygments_lexer": "ipython3",
   "version": "3.11.5"
  }
 },
 "nbformat": 4,
 "nbformat_minor": 5
}
